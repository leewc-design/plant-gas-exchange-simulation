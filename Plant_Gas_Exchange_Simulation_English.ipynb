{
 "cells": [
  {
   "cell_type": "code",
   "execution_count": null,
   "id": "9ff84aba",
   "metadata": {},
   "outputs": [],
   "source": [
    "from ipywidgets import interact, Dropdown, IntSlider\n",
    "import matplotlib.pyplot as plt\n"
   ]
  },
  {
   "cell_type": "code",
   "execution_count": null,
   "id": "bc24fa64",
   "metadata": {},
   "outputs": [],
   "source": [
    "def simulate_gas_exchange(environment, light_intensity, duration):\n",
    "    # Base values for gas exchange per hour\n",
    "    values = {\n",
    "        'Light': {\n",
    "            'Low': {'O2': 2, 'CO2': -1},\n",
    "            'Medium': {'O2': 4, 'CO2': -2},\n",
    "            'High': {'O2': 6, 'CO2': -3}\n",
    "        },\n",
    "        'Dark': {\n",
    "            'Any': {'O2': -2, 'CO2': 4}\n",
    "        }\n",
    "    }\n",
    "\n",
    "    if environment == 'Light':\n",
    "        o2 = values['Light'][light_intensity]['O2'] * duration\n",
    "        co2 = values['Light'][light_intensity]['CO2'] * duration\n",
    "    else:\n",
    "        o2 = values['Dark']['Any']['O2'] * duration\n",
    "        co2 = values['Dark']['Any']['CO2'] * duration\n",
    "\n",
    "    # Plotting\n",
    "    gases = ['Oxygen (O₂)', 'Carbon Dioxide (CO₂)']\n",
    "    changes = [o2, co2]\n",
    "    colors = ['green' if val > 0 else 'red' for val in changes]\n",
    "\n",
    "    plt.figure(figsize=(6,4))\n",
    "    plt.bar(gases, changes, color=colors)\n",
    "    plt.title(f'Gas Exchange Simulation ({environment}, {light_intensity} Light, {duration} hr)')\n",
    "    plt.ylabel('Net Change')\n",
    "    plt.grid(True)\n",
    "    plt.show()\n",
    "\n",
    "    # Explanation\n",
    "    print(f\"Environment: {environment}\")\n",
    "    print(f\"Light Intensity: {light_intensity}\")\n",
    "    print(f\"Duration: {duration} hour(s)\")\n",
    "    print(f\"Net Oxygen (O₂) change: {o2}\")\n",
    "    print(f\"Net Carbon Dioxide (CO₂) change: {co2}\")\n"
   ]
  },
  {
   "cell_type": "code",
   "execution_count": null,
   "id": "220b5a0a",
   "metadata": {},
   "outputs": [],
   "source": [
    "interact(simulate_gas_exchange,\n",
    "         environment=Dropdown(options=['Light', 'Dark'], value='Light', description='Environment'),\n",
    "         light_intensity=Dropdown(options=['Low', 'Medium', 'High'], value='Medium', description='Light Intensity'),\n",
    "         duration=IntSlider(value=1, min=1, max=6, step=1, description='Duration (hr)'))\n"
   ]
  }
 ],
 "metadata": {},
 "nbformat": 4,
 "nbformat_minor": 5
}
